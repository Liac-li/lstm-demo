{
 "cells": [
  {
   "cell_type": "code",
   "execution_count": 16,
   "metadata": {},
   "outputs": [
    {
     "name": "stdout",
     "output_type": "stream",
     "text": [
      "mean: 14.983039407169118, min: 5, max: 91, std:13.421016827802248\n",
      "69632\n"
     ]
    }
   ],
   "source": [
    "import numpy as np\n",
    "sum = []\n",
    "with open('data/res/tmp.txt', encoding='utf-8') as fr:\n",
    "    for line in fr:\n",
    "        length = int(line.strip().split()[0])\n",
    "        if length > 91 or length < 5:\n",
    "            continue\n",
    "        sum.append(length)\n",
    "\n",
    "print(f'mean: {np.mean(sum)}, min: {np.min(sum)}, max: {np.max(sum)}, std:{np.std(sum)}')\n",
    "print(len(sum))"
   ]
  },
  {
   "cell_type": "code",
   "execution_count": 43,
   "metadata": {},
   "outputs": [],
   "source": [
    "buf = [1, 1, 2]\n",
    "# @functools.lru_cache\n",
    "def fibStep(n):\n",
    "    global buf\n",
    "    if n < 3:\n",
    "        return buf[n]\n",
    "    else:\n",
    "        buf = buf[1:]\n",
    "        buf.append(buf[-1] + buf[-2])\n",
    "        return buf[-1]\n",
    "\n",
    "def getFib(c):\n",
    "    nth = 0\n",
    "    while len(str(buf[-1])) < c:\n",
    "        fibStep(nth)\n",
    "        print(buf)\n",
    "        nth += 1\n",
    "    return buf[-1], nth"
   ]
  },
  {
   "cell_type": "code",
   "execution_count": 44,
   "metadata": {},
   "outputs": [
    {
     "name": "stdout",
     "output_type": "stream",
     "text": [
      "[1, 1, 2]\n",
      "[1, 1, 2]\n",
      "[1, 1, 2]\n",
      "[1, 2, 3]\n",
      "[2, 3, 5]\n",
      "[3, 5, 8]\n",
      "[5, 8, 13]\n"
     ]
    },
    {
     "data": {
      "text/plain": [
       "(13, 7)"
      ]
     },
     "execution_count": 44,
     "metadata": {},
     "output_type": "execute_result"
    }
   ],
   "source": [
    "getFib(2)"
   ]
  },
  {
   "cell_type": "code",
   "execution_count": null,
   "metadata": {},
   "outputs": [],
   "source": []
  }
 ],
 "metadata": {
  "interpreter": {
   "hash": "586ad1ed5c97141e2437e681efbf1ec0adcd17d830cf5af2ca3d2819e743e158"
  },
  "kernelspec": {
   "display_name": "Python 3.8.8 ('base')",
   "language": "python",
   "name": "python3"
  },
  "language_info": {
   "codemirror_mode": {
    "name": "ipython",
    "version": 3
   },
   "file_extension": ".py",
   "mimetype": "text/x-python",
   "name": "python",
   "nbconvert_exporter": "python",
   "pygments_lexer": "ipython3",
   "version": "3.8.8"
  },
  "orig_nbformat": 4
 },
 "nbformat": 4,
 "nbformat_minor": 2
}
